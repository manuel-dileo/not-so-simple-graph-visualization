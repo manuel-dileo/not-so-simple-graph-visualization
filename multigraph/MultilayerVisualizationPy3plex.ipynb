{
 "cells": [
  {
   "cell_type": "markdown",
   "metadata": {
    "id": "Md8fLDFYhglo"
   },
   "source": [
    "Questo Nootebook ha lo scopo di mostrare un tipo possibile di visualizzazione per un Multigrafo, quella multilayer. Il concetto chiave sta nel scomporre il grafo in più layer che rappresenteranno un diverso tipo di informazione. \n",
    "\n",
    "Questo tipo di plot serve appunto a visualizzare un grafo diviso in parti e a far risaltare le relazioni tra queste.\n",
    "\n",
    "Utilizzeremo il dataset delle interazioni tra i personaggi del Trono di spade che è stato costruito usando una tecnica di scraping sui 5 libri.\n",
    "\n",
    "link dataset: https://github.com/mathbeveridge/asoiaf.git"
   ]
  },
  {
   "cell_type": "markdown",
   "metadata": {
    "id": "ZstI9xCakBcj"
   },
   "source": [
    "# Gestione Dei Dati\n"
   ]
  },
  {
   "cell_type": "code",
   "execution_count": 1,
   "metadata": {
    "colab": {
     "base_uri": "https://localhost:8080/"
    },
    "id": "CHKgRtS-cAWE",
    "outputId": "06630b4e-b935-4c57-9a47-0655eb383c30"
   },
   "outputs": [
    {
     "name": "stdout",
     "output_type": "stream",
     "text": [
      "fatal: destination path 'asoiaf' already exists and is not an empty directory.\r\n"
     ]
    }
   ],
   "source": [
    "! git clone https://github.com/mathbeveridge/asoiaf.git"
   ]
  },
  {
   "cell_type": "markdown",
   "metadata": {
    "id": "-Nm7IBm8l387"
   },
   "source": [
    "Un limite del tipo di visualizzazione che stiamo per fare è la dimensione del grafo, un grafo troppo grande non viene reso adeguatamente e rende il plot  inutile e non informativo. Per ottenere un plot che abbia un senso dobbiamo decidere cosa vogliamo visualizzare dei nostri dati. \n",
    "\n",
    "Nel nostro caso abbiamo un dataset composto da diversi file:\n",
    "*  5 file che contengono i personaggi che appaiono in ogni libro (nodi del grafo)\n",
    "*  5 file che contengono le interazioni che hanno avuto questi personaggi all'interno di un libro (edge del grafo)\n",
    "\n",
    "Quello che vorrei visualizzare nel mio plot finale sono le interazioni che hanno avuto i personaggi all'interno di ogni libro e le interazioni che hanno avuto i personaggi principali tra i vari libri.\n",
    "\n",
    "Con personaggio principale intendiamo un personaggio che è presente in ogni libro(nucleo del grafo).\n",
    "\n",
    "Quindi importando i file e filtrando i dati dei i personaggi che appaiono in ogni libro posso ricavare una lista di personaggi principali"
   ]
  },
  {
   "cell_type": "code",
   "execution_count": 2,
   "metadata": {
    "id": "z9p4El0uqa9-"
   },
   "outputs": [],
   "source": [
    "import csv\n",
    "\n",
    "\n",
    "#Importa personaggi del libro 1\n",
    "with open('asoiaf/data/asoiaf-book1-nodes.csv', 'r') as nodesFileL1:\n",
    "  nodesReaderL1 = csv.reader(nodesFileL1, delimiter=',', quotechar='\"')\n",
    "  nodesL1 = list(nodesReaderL1)[1:]\n",
    "#Importa personaggi del libro 2\n",
    "with open('asoiaf/data/asoiaf-book2-nodes.csv', 'r') as nodesFileL2:\n",
    "  nodesReaderL2 = csv.reader(nodesFileL2, delimiter=',', quotechar='\"')\n",
    "  nodesL2 = list(nodesReaderL2)[1:]\n",
    "#Importa personaggi del libro 3\n",
    "with open('asoiaf/data/asoiaf-book3-nodes.csv', 'r') as nodesFileL3:\n",
    "  nodesReaderL3 = csv.reader(nodesFileL3, delimiter=',', quotechar='\"')\n",
    "  nodesL3 = list(nodesReaderL3)[1:]\n",
    "#Importa personaggi del libro 4\n",
    "with open('asoiaf/data/asoiaf-book4-nodes.csv', 'r') as nodesFileL4:\n",
    "  nodesReaderL4 = csv.reader(nodesFileL4, delimiter=',', quotechar='\"')\n",
    "  nodesL4 = list(nodesReaderL4)[1:]\n",
    "#Importa personaggi del libro 5\n",
    "with open('asoiaf/data/asoiaf-book5-nodes.csv', 'r') as nodesFileL5:\n",
    "  nodesReaderL5 = csv.reader(nodesFileL5, delimiter=',', quotechar='\"')\n",
    "  nodesL5 = list(nodesReaderL5)[1:]\n",
    "\n",
    "# per trovare i personaggi che si trovano in ogni libro trasformo le liste in set() in modo da poter fare un'operazione di intersezione\n",
    "# infatti personaggiPrincipali = PersonaggiL1 ∩ PersonaggiL2 ∩ PersonaggiL3 ∩ PersonaggiL4 ∩ PersonaggiL5\n",
    "setNodesL1 = set([x[0] for x in nodesL1])\n",
    "setNodesL2 = set([x[0] for x in nodesL2])\n",
    "setNodesL3 = set([x[0] for x in nodesL3])\n",
    "setNodesL4 = set([x[0] for x in nodesL4])\n",
    "setNodesL5 = set([x[0] for x in nodesL5])\n",
    "\n",
    "#Eseguo operazione di intersezione\n",
    "setNodesLIntersecate = setNodesL1.intersection(setNodesL2)\n",
    "setNodesLIntersecate = setNodesLIntersecate.intersection(setNodesL3)\n",
    "setNodesLIntersecate = setNodesLIntersecate.intersection(setNodesL4)\n",
    "setNodesLIntersecate = setNodesLIntersecate.intersection(setNodesL5)\n",
    "\n",
    "#riconverto in lista\n",
    "personaggiPrincipali = list(setNodesLIntersecate)"
   ]
  },
  {
   "cell_type": "markdown",
   "metadata": {
    "id": "7aHUVFPuod7e"
   },
   "source": [
    "A questo punto importiamo gli edge del grafo\n",
    "\n",
    "La struttura di un edge è:  [Source, Target, Type, Weight, Book]\n"
   ]
  },
  {
   "cell_type": "code",
   "execution_count": 3,
   "metadata": {
    "id": "RWvKssja4PjK"
   },
   "outputs": [],
   "source": [
    "#Importa edge libro 1\n",
    "with open('asoiaf/data/asoiaf-book1-edges.csv', 'r') as edgesFileL1:\n",
    "  edgesReaderL1 = csv.reader(edgesFileL1, delimiter=',', quotechar='\"')\n",
    "  edgesL1 = list(edgesReaderL1)[1:]\n",
    "#Importa edge libro 2\n",
    "with open('asoiaf/data/asoiaf-book2-edges.csv', 'r') as edgesFileL2:\n",
    "  edgesReaderL2 = csv.reader(edgesFileL2, delimiter=',', quotechar='\"')\n",
    "  edgesL2 = list(edgesReaderL2)[1:]\n",
    "#Importa edge libro 3\n",
    "with open('asoiaf/data/asoiaf-book3-edges.csv', 'r') as edgesFileL3:\n",
    "  edgesReaderL3 = csv.reader(edgesFileL3, delimiter=',', quotechar='\"')\n",
    "  edgesL3 = list(edgesReaderL3)[1:]\n",
    "#Importa edge libro 4\n",
    "with open('asoiaf/data/asoiaf-book4-edges.csv', 'r') as edgesFileL4:\n",
    "  edgesReaderL4 = csv.reader(edgesFileL4, delimiter=',', quotechar='\"')\n",
    "  edgesL4 = list(edgesReaderL4)[1:]\n",
    "#Importa edge libro 5\n",
    "with open('asoiaf/data/asoiaf-book5-edges.csv', 'r') as edgesFileL5:\n",
    "  edgesReaderL5 = csv.reader(edgesFileL5, delimiter=',', quotechar='\"')\n",
    "  edgesL5 = list(edgesReaderL5)[1:]\n",
    "\n",
    "#concatena le liste\n",
    "edgesL = edgesL1 + edgesL2 + edgesL3 + edgesL4 + edgesL5"
   ]
  },
  {
   "cell_type": "markdown",
   "metadata": {
    "id": "NnyIiWMfnmrS"
   },
   "source": [
    "# Visualizzazione"
   ]
  },
  {
   "cell_type": "markdown",
   "metadata": {
    "id": "2zgijA4RqztT"
   },
   "source": [
    "Per la visualizzazione ho deciso di usare la libreria python Py3Plex.\n",
    "\n",
    "\n",
    "Per ulteriori info su Py3plex lascio il link di github: https://github.com/SkBlaz/Py3Plex"
   ]
  },
  {
   "cell_type": "code",
   "execution_count": 4,
   "metadata": {
    "colab": {
     "base_uri": "https://localhost:8080/"
    },
    "id": "Zzr7DwIVqO9O",
    "outputId": "fc850c0e-d772-485f-c672-28610fa47743"
   },
   "outputs": [
    {
     "name": "stdout",
     "output_type": "stream",
     "text": [
      "Requirement already satisfied: py3plex in /home/matteo/.local/lib/python3.8/site-packages (0.94)\n",
      "Requirement already satisfied: cython>=0.20 in /home/matteo/.local/lib/python3.8/site-packages (from py3plex) (0.29.22)\n",
      "Requirement already satisfied: tqdm>0.0 in /home/matteo/.local/lib/python3.8/site-packages (from py3plex) (4.60.0)\n",
      "Requirement already satisfied: bitarray==1.2.1 in /home/matteo/.local/lib/python3.8/site-packages (from py3plex) (1.2.1)\n",
      "Requirement already satisfied: matplotlib in /home/matteo/.local/lib/python3.8/site-packages (from py3plex) (3.4.1)\n",
      "Requirement already satisfied: plotnine in /home/matteo/.local/lib/python3.8/site-packages (from py3plex) (0.8.0)\n",
      "Requirement already satisfied: rdflib>=0.1 in /home/matteo/.local/lib/python3.8/site-packages (from py3plex) (5.0.0)\n",
      "Requirement already satisfied: scipy>=1.1.0 in /home/matteo/.local/lib/python3.8/site-packages (from py3plex) (1.6.2)\n",
      "Requirement already satisfied: numpy>=0.8 in /home/matteo/.local/lib/python3.8/site-packages (from py3plex) (1.20.2)\n",
      "Requirement already satisfied: networkx>=2.1 in /home/matteo/.local/lib/python3.8/site-packages (from py3plex) (2.5.1)\n",
      "Requirement already satisfied: scikit-learn in /home/matteo/.local/lib/python3.8/site-packages (from py3plex) (0.24.1)\n",
      "Requirement already satisfied: gensim in /home/matteo/.local/lib/python3.8/site-packages (from py3plex) (4.0.1)\n",
      "Requirement already satisfied: seaborn in /home/matteo/.local/lib/python3.8/site-packages (from py3plex) (0.11.1)\n",
      "Requirement already satisfied: cycler>=0.10 in /home/matteo/.local/lib/python3.8/site-packages (from matplotlib->py3plex) (0.10.0)\n",
      "Requirement already satisfied: python-dateutil>=2.7 in /usr/lib/python3/dist-packages (from matplotlib->py3plex) (2.7.3)\n",
      "Requirement already satisfied: pyparsing>=2.2.1 in /home/matteo/.local/lib/python3.8/site-packages (from matplotlib->py3plex) (2.4.7)\n",
      "Requirement already satisfied: kiwisolver>=1.0.1 in /home/matteo/.local/lib/python3.8/site-packages (from matplotlib->py3plex) (1.3.1)\n",
      "Requirement already satisfied: pillow>=6.2.0 in /usr/lib/python3/dist-packages (from matplotlib->py3plex) (7.0.0)\n",
      "Requirement already satisfied: statsmodels>=0.12.1 in /home/matteo/.local/lib/python3.8/site-packages (from plotnine->py3plex) (0.12.2)\n",
      "Requirement already satisfied: mizani>=0.7.3 in /home/matteo/.local/lib/python3.8/site-packages (from plotnine->py3plex) (0.7.3)\n",
      "Requirement already satisfied: descartes>=1.1.0 in /home/matteo/.local/lib/python3.8/site-packages (from plotnine->py3plex) (1.1.0)\n",
      "Requirement already satisfied: patsy>=0.5.1 in /home/matteo/.local/lib/python3.8/site-packages (from plotnine->py3plex) (0.5.1)\n",
      "Requirement already satisfied: pandas>=1.1.0 in /home/matteo/.local/lib/python3.8/site-packages (from plotnine->py3plex) (1.2.3)\n",
      "Requirement already satisfied: isodate in /home/matteo/.local/lib/python3.8/site-packages (from rdflib>=0.1->py3plex) (0.6.0)\n",
      "Requirement already satisfied: six in /usr/lib/python3/dist-packages (from rdflib>=0.1->py3plex) (1.14.0)\n",
      "Requirement already satisfied: decorator<5,>=4.3 in /home/matteo/.local/lib/python3.8/site-packages (from networkx>=2.1->py3plex) (4.4.2)\n",
      "Requirement already satisfied: joblib>=0.11 in /home/matteo/.local/lib/python3.8/site-packages (from scikit-learn->py3plex) (1.0.1)\n",
      "Requirement already satisfied: threadpoolctl>=2.0.0 in /home/matteo/.local/lib/python3.8/site-packages (from scikit-learn->py3plex) (2.1.0)\n",
      "Requirement already satisfied: smart-open>=1.8.1 in /home/matteo/.local/lib/python3.8/site-packages (from gensim->py3plex) (5.0.0)\n",
      "Requirement already satisfied: palettable in /home/matteo/.local/lib/python3.8/site-packages (from mizani>=0.7.3->plotnine->py3plex) (3.3.0)\n",
      "Requirement already satisfied: pytz>=2017.3 in /usr/lib/python3/dist-packages (from pandas>=1.1.0->plotnine->py3plex) (2019.3)\n"
     ]
    }
   ],
   "source": [
    "!pip3 install py3plex"
   ]
  },
  {
   "cell_type": "markdown",
   "metadata": {
    "id": "F9Yhf5bRsD9f"
   },
   "source": [
    "Py3plex offre una buona visualizzazione multilayer di un multigrafo.\n",
    "\n",
    "Il nostro dataset è diviso per libri, quindi quello che vogliamo è visualizzare le interazioni che i personaggi hanno avuto all'interno di un determinato libro distintamente. \n",
    "\n",
    "Vogliamo che ogni layer della nostra visualizzazione faccia riferimento ad un libro.\n",
    "\n",
    "Dopo aver creato un grafo vuoto aggiungo ogni arco, che di conseguenza aggiungerà pure i nodi a cui si riferisce.\n",
    "\n",
    "Visto che sto inserendo le relazioni all'interno di ogni libro il mio source_type e target_type saranno gli stessi, in particolare saranno il numero del libro.\n"
   ]
  },
  {
   "cell_type": "code",
   "execution_count": 5,
   "metadata": {
    "id": "xs10CjQwoz3M"
   },
   "outputs": [],
   "source": [
    "from py3plex.core import multinet\n",
    "from py3plex.visualization.multilayer import plt\n",
    "\n",
    "M = multinet.multi_layer_network(network_type=\"multiplex\")\n",
    "\n",
    "for e in edgesL :\n",
    "  try :\n",
    "    edge = {\"source\":e[0],\n",
    "            \"target\":e[1],\n",
    "            \"source_type\":int(e[4]),\n",
    "            \"type\":\"mention\",\n",
    "            \"weight\" : int(e[3]),\n",
    "            \"target_type\":int(e[4])\n",
    "            }\n",
    "    M.add_edges(edge)\n",
    "  except ValueError :\n",
    "    pass\n"
   ]
  },
  {
   "cell_type": "code",
   "execution_count": 6,
   "metadata": {
    "colab": {
     "base_uri": "https://localhost:8080/",
     "height": 1000
    },
    "id": "xVisJ_Gm8bUJ",
    "outputId": "d8450111-aad3-40cb-a7e6-1dc776304809"
   },
   "outputs": [
    {
     "name": "stderr",
     "output_type": "stream",
     "text": [
      "\r",
      "  0%|          | 0/100 [00:00<?, ?it/s]"
     ]
    },
    {
     "name": "stdout",
     "output_type": "stream",
     "text": [
      "-------------------- \n",
      " Computing core stats of the network \n",
      " --------------------\n",
      "Name: \n",
      "Type: MultiDiGraph\n",
      "Number of nodes: 1340\n",
      "Number of edges: 3908\n",
      "Average in degree:   2.9164\n",
      "Average out degree:   2.9164\n",
      "Number of unique node IDs: 988\n",
      "-------------------- \n",
      " Network splitting in progress \n",
      " --------------------\n"
     ]
    },
    {
     "name": "stderr",
     "output_type": "stream",
     "text": [
      "100%|██████████| 100/100 [00:28<00:00,  3.57it/s]\n"
     ]
    },
    {
     "name": "stdout",
     "output_type": "stream",
     "text": [
      "BarnesHut Approximation  took  2.80  seconds\n",
      "Repulsion forces  took  23.86  seconds\n",
      "Gravitational forces  took  0.09  seconds\n",
      "Attraction forces  took  0.53  seconds\n",
      "AdjustSpeedAndApplyForces step  took  0.24  seconds\n",
      "Finished with layout..\n",
      "Name: \n",
      "Type: MultiDiGraph\n",
      "Number of nodes: 187\n",
      "Number of edges: 684\n",
      "Average in degree:   3.6578\n",
      "Average out degree:   3.6578\n",
      "Name: \n",
      "Type: MultiDiGraph\n",
      "Number of nodes: 259\n",
      "Number of edges: 774\n",
      "Average in degree:   2.9884\n",
      "Average out degree:   2.9884\n",
      "Name: \n",
      "Type: MultiDiGraph\n",
      "Number of nodes: 303\n",
      "Number of edges: 1008\n",
      "Average in degree:   3.3267\n",
      "Average out degree:   3.3267\n"
     ]
    },
    {
     "name": "stderr",
     "output_type": "stream",
     "text": [
      "0it [00:00, ?it/s]"
     ]
    },
    {
     "name": "stdout",
     "output_type": "stream",
     "text": [
      "Name: \n",
      "Type: MultiDiGraph\n",
      "Number of nodes: 274\n",
      "Number of edges: 682\n",
      "Average in degree:   2.4891\n",
      "Average out degree:   2.4891\n",
      "Name: \n",
      "Type: MultiDiGraph\n",
      "Number of nodes: 317\n",
      "Number of edges: 760\n",
      "Average in degree:   2.3975\n",
      "Average out degree:   2.3975\n"
     ]
    },
    {
     "name": "stderr",
     "output_type": "stream",
     "text": [
      "\n"
     ]
    },
    {
     "data": {
      "image/png": "[encoded data removed]",
      "text/plain": [
       "<Figure size 432x288 with 1 Axes>"
      ]
     },
     "metadata": {},
     "output_type": "display_data"
    }
   ],
   "source": [
    "M.basic_stats()\n",
    "M.visualize_network(style=\"diagonal\")\n",
    "plt.show()"
   ]
  },
  {
   "cell_type": "markdown",
   "metadata": {
    "id": "0C7Utdirz48T"
   },
   "source": [
    "Dopo aver visualizzato i grafi delle interazioni tra i personaggi principali divise per libro potrebbe essere interessante collegare questi layer con degli edge\n",
    "\n",
    "Py3plex permette di falro grazie alla struttura degli edge.\n",
    "Gli edge sono infatti strutturati così: \n",
    "\n",
    "{\"source\", \"target\", \"source_type\", \"target_type\", \"type\", \"weight\"}\n",
    "\n",
    "Quello che voglio fare è collegare i personaggi che rimangono per tutti i libri partendo dal primo e arrivando all'ultimo con un arco che abbia come weight la somma del degree del personaggio nel libro di partenza e nel libro di arrivo.\n",
    "\n",
    "Quindi aggiungo un edge che collega lo stesso personaggio principale, ma in due libri successivi.\n",
    "\n",
    "In questo caso source e target avranno lo stesso valore invece target_type = source_type + 1 per indicare il libro successivo.\n"
   ]
  },
  {
   "cell_type": "code",
   "execution_count": 7,
   "metadata": {
    "id": "CMcQruhdthuF"
   },
   "outputs": [],
   "source": [
    "for e in personaggiPrincipali:\n",
    "  for i in range(1, 5):\n",
    "    try:\n",
    "      edge = {\"source\":e,\n",
    "          \"target\":e,\n",
    "          \"source_type\":i,\n",
    "          \"type\":\"mention\",\n",
    "          \"weight\" : M.get_degrees()[(e, i)] + M.get_degrees()[(e, i+1)],\n",
    "          \"target_type\":i+1\n",
    "          }\n",
    "      M.add_edges(edge)\n",
    "    except KeyError:\n",
    "      pass"
   ]
  },
  {
   "cell_type": "code",
   "execution_count": 8,
   "metadata": {
    "colab": {
     "base_uri": "https://localhost:8080/",
     "height": 1000
    },
    "id": "nbhvBMxKWtJP",
    "outputId": "b330ea54-9fbe-4807-8496-8dc9788dae3b"
   },
   "outputs": [
    {
     "name": "stderr",
     "output_type": "stream",
     "text": [
      "  1%|          | 1/100 [00:00<00:10,  9.33it/s]"
     ]
    },
    {
     "name": "stdout",
     "output_type": "stream",
     "text": [
      "-------------------- \n",
      " Computing core stats of the network \n",
      " --------------------\n",
      "Name: \n",
      "Type: MultiDiGraph\n",
      "Number of nodes: 1340\n",
      "Number of edges: 4068\n",
      "Average in degree:   3.0358\n",
      "Average out degree:   3.0358\n",
      "Number of unique node IDs: 999\n",
      "-------------------- \n",
      " Network splitting in progress \n",
      " --------------------\n"
     ]
    },
    {
     "name": "stderr",
     "output_type": "stream",
     "text": [
      "100%|██████████| 100/100 [00:28<00:00,  3.45it/s]\n"
     ]
    },
    {
     "name": "stdout",
     "output_type": "stream",
     "text": [
      "BarnesHut Approximation  took  1.71  seconds\n",
      "Repulsion forces  took  26.30  seconds\n",
      "Gravitational forces  took  0.08  seconds\n",
      "Attraction forces  took  0.57  seconds\n",
      "AdjustSpeedAndApplyForces step  took  0.23  seconds\n",
      "Finished with layout..\n",
      "Name: \n",
      "Type: MultiDiGraph\n",
      "Number of nodes: 187\n",
      "Number of edges: 684\n",
      "Average in degree:   3.6578\n",
      "Average out degree:   3.6578\n",
      "Name: \n",
      "Type: MultiDiGraph\n",
      "Number of nodes: 259\n",
      "Number of edges: 774\n",
      "Average in degree:   2.9884\n",
      "Average out degree:   2.9884\n",
      "Name: \n",
      "Type: MultiDiGraph\n",
      "Number of nodes: 303\n",
      "Number of edges: 1008\n",
      "Average in degree:   3.3267\n",
      "Average out degree:   3.3267\n",
      "Name: \n",
      "Type: MultiDiGraph\n",
      "Number of nodes: 274\n",
      "Number of edges: 682\n",
      "Average in degree:   2.4891\n",
      "Average out degree:   2.4891\n",
      "Name: \n",
      "Type: MultiDiGraph\n",
      "Number of nodes: 317\n",
      "Number of edges: 760\n",
      "Average in degree:   2.3975\n",
      "Average out degree:   2.3975\n"
     ]
    },
    {
     "name": "stderr",
     "output_type": "stream",
     "text": [
      "100%|██████████| 1/1 [00:00<00:00,  8.79it/s]\n"
     ]
    },
    {
     "data": {
      "image/png": "[encoded data removed]",
      "text/plain": [
       "<Figure size 432x288 with 1 Axes>"
      ]
     },
     "metadata": {},
     "output_type": "display_data"
    }
   ],
   "source": [
    "M.basic_stats()\n",
    "M.visualize_network(style=\"diagonal\")\n",
    "plt.show()"
   ]
  },
  {
   "cell_type": "markdown",
   "metadata": {
    "id": "ef2XvOoccxPH"
   },
   "source": [
    "Con la visualizzazione sopra possiamo notare che tutti i libri sono collegati tramite questi personaggi principali, se volessi togliere i nodi del grafo che corrispondono ai personaggi principali cosa osserverei?"
   ]
  },
  {
   "cell_type": "code",
   "execution_count": 9,
   "metadata": {
    "colab": {
     "base_uri": "https://localhost:8080/",
     "height": 1000
    },
    "id": "-ltRbRTTca0q",
    "outputId": "3017c59c-1de8-4f64-9cc2-7497af2c5456"
   },
   "outputs": [
    {
     "name": "stderr",
     "output_type": "stream",
     "text": [
      "  2%|▏         | 2/100 [00:00<00:08, 11.63it/s]"
     ]
    },
    {
     "name": "stdout",
     "output_type": "stream",
     "text": [
      "-------------------- \n",
      " Computing core stats of the network \n",
      " --------------------\n",
      "Name: \n",
      "Type: MultiDiGraph\n",
      "Number of nodes: 1140\n",
      "Number of edges: 1518\n",
      "Average in degree:   1.3316\n",
      "Average out degree:   1.3316\n",
      "Number of unique node IDs: 621\n",
      "-------------------- \n",
      " Network splitting in progress \n",
      " --------------------\n"
     ]
    },
    {
     "name": "stderr",
     "output_type": "stream",
     "text": [
      "100%|██████████| 100/100 [00:17<00:00,  5.85it/s]\n"
     ]
    },
    {
     "name": "stdout",
     "output_type": "stream",
     "text": [
      "BarnesHut Approximation  took  1.40  seconds\n",
      "Repulsion forces  took  15.11  seconds\n",
      "Gravitational forces  took  0.07  seconds\n",
      "Attraction forces  took  0.24  seconds\n",
      "AdjustSpeedAndApplyForces step  took  0.20  seconds\n",
      "Finished with layout..\n",
      "Name: \n",
      "Type: MultiDiGraph\n",
      "Number of nodes: 147\n",
      "Number of edges: 167\n",
      "Average in degree:   1.1361\n",
      "Average out degree:   1.1361\n",
      "Name: \n",
      "Type: MultiDiGraph\n",
      "Number of nodes: 219\n",
      "Number of edges: 244\n",
      "Average in degree:   1.1142\n",
      "Average out degree:   1.1142\n",
      "Name: \n",
      "Type: MultiDiGraph\n",
      "Number of nodes: 263\n",
      "Number of edges: 382\n",
      "Average in degree:   1.4525\n",
      "Average out degree:   1.4525\n",
      "Name: \n",
      "Type: MultiDiGraph\n",
      "Number of nodes: 234\n",
      "Number of edges: 303\n",
      "Average in degree:   1.2949\n",
      "Average out degree:   1.2949\n",
      "Name: \n",
      "Type: MultiDiGraph\n",
      "Number of nodes: 277\n",
      "Number of edges: 422\n",
      "Average in degree:   1.5235\n",
      "Average out degree:   1.5235\n"
     ]
    },
    {
     "name": "stderr",
     "output_type": "stream",
     "text": [
      "0it [00:00, ?it/s]\n"
     ]
    },
    {
     "data": {
      "image/png": "[encoded data removed]",
      "text/plain": [
       "<Figure size 432x288 with 1 Axes>"
      ]
     },
     "metadata": {},
     "output_type": "display_data"
    }
   ],
   "source": [
    "listaNodi = list(M.get_nodes())\n",
    "listaNodiPrincipali = []\n",
    "for e in listaNodi:\n",
    "  if e[0] in personaggiPrincipali:\n",
    "    listaNodiPrincipali.append([e[0], e[1]])\n",
    "M.remove_nodes(listaNodiPrincipali, input_type=\"list\")\n",
    "\n",
    "M.basic_stats()\n",
    "M.visualize_network(style=\"diagonal\")\n",
    "plt.show()"
   ]
  },
  {
   "cell_type": "markdown",
   "metadata": {
    "id": "v6jBU8EoOblq"
   },
   "source": [
    "Posso osservare che togliendo tutti i nodi che corrispondono ai personaggi principali in ogni libro vengono eliminati anche gli archi che permettevano il collegamento tra libri. Possiamo quindi dire che togliendo i personaggi principali i 5 libri appaiono come storie diverse in quanto non mantengono nessun personaggio per tutta la loro durata."
   ]
  },
  {
   "cell_type": "markdown",
   "metadata": {
    "id": "94y0OJLx033z"
   },
   "source": [
    "# Visualizzazione di un diverso tipo di informazione"
   ]
  },
  {
   "cell_type": "markdown",
   "metadata": {
    "id": "GjqvggIrXJQ-"
   },
   "source": [
    "Con la visualizzazione precedente abbiamo visualizzato come i personaggi principali collegani i vari libri e li rendono un'unica storia, ma non è l'unica informazione che possiamo visualizzare con questi dati.\n",
    "\n",
    "Cambiando la definizione di Personaggio Principale possiamo cambiare il senso della nostra visualizzazione portandoci ad evidenziare un diverso tipo di informazione.\n",
    "\n",
    "In questo esempio:\n",
    "* Personaggi Principali = nodi con maggior degree in ogni libro\n",
    "\n",
    "In questo caso i personaggi principali saranno corrispettivi di un libro e non più dell'intera saga.\n",
    "\n",
    "Precisamente personaggi principali sono i nodi che hanno un degree maggiore di 0,95 quantile.\n",
    "\n",
    "Come in precedenza viene creato un grafo e viene riempito con tutti gli edge relativi alle relazioni che hanni i personaggi all'interno dei libri."
   ]
  },
  {
   "cell_type": "code",
   "execution_count": 10,
   "metadata": {
    "id": "SxBJqxrjRWRR"
   },
   "outputs": [],
   "source": [
    "Mdeg = multinet.multi_layer_network(network_type=\"multiplex\")\n",
    "\n",
    "for e in edgesL :\n",
    "  try :\n",
    "    if (int(e[4]) in range(1, 6)) :\n",
    "      edge = {\"source\":e[0],\n",
    "              \"target\":e[1],\n",
    "              \"source_type\":int(e[4]),\n",
    "              \"type\":\"mention\",\n",
    "              \"weight\" : int(e[3]), ## add arbitrary attributes!\n",
    "              \"target_type\":int(e[4])\n",
    "            }\n",
    "      Mdeg.add_edges(edge)\n",
    "  except ValueError :\n",
    "    pass"
   ]
  },
  {
   "cell_type": "markdown",
   "metadata": {
    "id": "KcEgwEkSZauv"
   },
   "source": [
    "Successivamente vengono calcolati i personaggi principali di ogni libro e vengono inseriti gli edge che collegano i personaggi principali tra un libro e il successivo, se è presente anche in quello.\n",
    "\n"
   ]
  },
  {
   "cell_type": "code",
   "execution_count": 11,
   "metadata": {
    "colab": {
     "base_uri": "https://localhost:8080/",
     "height": 1000
    },
    "id": "RurjPlhPSiwR",
    "outputId": "c091fbb3-cdcc-49fc-eef5-64d8afc97bed"
   },
   "outputs": [
    {
     "name": "stdout",
     "output_type": "stream",
     "text": [
      "-------------------- \n",
      " Computing core stats of the network \n",
      " --------------------\n",
      "Name: \n",
      "Type: MultiDiGraph\n",
      "Number of nodes: 1367\n",
      "Number of edges: 3938\n",
      "Average in degree:   2.8808\n",
      "Average out degree:   2.8808\n"
     ]
    },
    {
     "name": "stderr",
     "output_type": "stream",
     "text": [
      "\r",
      "  0%|          | 0/100 [00:00<?, ?it/s]"
     ]
    },
    {
     "name": "stdout",
     "output_type": "stream",
     "text": [
      "Number of unique node IDs: 1008\n",
      "-------------------- \n",
      " Network splitting in progress \n",
      " --------------------\n"
     ]
    },
    {
     "name": "stderr",
     "output_type": "stream",
     "text": [
      "100%|██████████| 100/100 [00:27<00:00,  3.65it/s]\n"
     ]
    },
    {
     "name": "stdout",
     "output_type": "stream",
     "text": [
      "BarnesHut Approximation  took  1.69  seconds\n",
      "Repulsion forces  took  24.74  seconds\n",
      "Gravitational forces  took  0.09  seconds\n",
      "Attraction forces  took  0.54  seconds\n",
      "AdjustSpeedAndApplyForces step  took  0.24  seconds\n",
      "Finished with layout..\n",
      "Name: \n",
      "Type: MultiDiGraph\n",
      "Number of nodes: 193\n",
      "Number of edges: 684\n",
      "Average in degree:   3.5440\n",
      "Average out degree:   3.5440\n",
      "Name: \n",
      "Type: MultiDiGraph\n",
      "Number of nodes: 266\n",
      "Number of edges: 774\n",
      "Average in degree:   2.9098\n",
      "Average out degree:   2.9098\n",
      "Name: \n",
      "Type: MultiDiGraph\n",
      "Number of nodes: 309\n",
      "Number of edges: 1008\n",
      "Average in degree:   3.2621\n",
      "Average out degree:   3.2621\n",
      "Name: \n",
      "Type: MultiDiGraph\n",
      "Number of nodes: 279\n",
      "Number of edges: 682\n",
      "Average in degree:   2.4444\n",
      "Average out degree:   2.4444\n"
     ]
    },
    {
     "name": "stderr",
     "output_type": "stream",
     "text": [
      "\r",
      "  0%|          | 0/1 [00:00<?, ?it/s]"
     ]
    },
    {
     "name": "stdout",
     "output_type": "stream",
     "text": [
      "Name: \n",
      "Type: MultiDiGraph\n",
      "Number of nodes: 320\n",
      "Number of edges: 760\n",
      "Average in degree:   2.3750\n",
      "Average out degree:   2.3750\n"
     ]
    },
    {
     "name": "stderr",
     "output_type": "stream",
     "text": [
      "100%|██████████| 1/1 [00:00<00:00, 38.68it/s]\n"
     ]
    },
    {
     "data": {
      "image/png": "[encoded data removed]",
      "text/plain": [
       "<Figure size 432x288 with 1 Axes>"
      ]
     },
     "metadata": {},
     "output_type": "display_data"
    }
   ],
   "source": [
    "import numpy as np\n",
    "\n",
    "def degPersonaggio(listaDegree, e) :\n",
    "  for i in listaDegree :\n",
    "    if i[0] == e :\n",
    "      return i[1]\n",
    "    \n",
    "listaDegree = Mdeg.get_degrees()\n",
    "listaDegreePerLibro = [[],[],[],[],[]]\n",
    "personaggiPrincipaliPerLibro = [[],[],[],[],[]]\n",
    "quantili = [0, 0, 0, 0, 0]\n",
    "\n",
    "#listaDegreePerLibro[][] = tutti i personaggi con il loro degree in ogni libro\n",
    "for e in listaDegree :\n",
    "  try:\n",
    "    listaDegreePerLibro[e[1]-1].append([e[0], listaDegree[e]])\n",
    "  except IndexError :\n",
    "    pass\n",
    "\n",
    "#quantili[] = quantile(0.95) del Degree di ogni libro\n",
    "for i in range(0, 5) :\n",
    "  npL = np.array(listaDegreePerLibro[i])\n",
    "  listDegree = npL[:, 1]\n",
    "  listDegree = [int(e) for e in listDegree]\n",
    "  quantili[i] = (np.quantile(listDegree, 0.95))\n",
    "\n",
    "#filtra i personaggi principali\n",
    "for i in range(0, 5):\n",
    "  for e in listaDegreePerLibro[i]:\n",
    "    if e[1]>=quantili[i] :\n",
    "      personaggiPrincipaliPerLibro[i].append(e[0])\n",
    "\n",
    "#inserisce edge tra i personaggi principali che collegani i libri\n",
    "for i in range(0, 4) :\n",
    "  for e in personaggiPrincipaliPerLibro[i] :\n",
    "    if e in personaggiPrincipaliPerLibro[i+1] :\n",
    "      try :\n",
    "        edge = {\"source\":e[0],\n",
    "                \"target\":e[0],\n",
    "                \"source_type\": int(i+1),\n",
    "                \"type\":\"mention\",\n",
    "                \"weight\" : degPersonaggio(listaDegreePerLibro[i], e) + degPersonaggio(listaDegreePerLibro[i+1], e),\n",
    "                \"target_type\": int(i+2)\n",
    "                }\n",
    "        \n",
    "        Mdeg.add_edges(edge)\n",
    "      except ValueError :\n",
    "        pass\n",
    "\n",
    "Mdeg.basic_stats()\n",
    "Mdeg.visualize_network(style=\"diagonal\")\n",
    "plt.show()"
   ]
  },
  {
   "cell_type": "markdown",
   "metadata": {
    "id": "rOdHqlPuzQlD"
   },
   "source": [
    "Con questa visualizzazione possiamo notare come i primi 3 libri siano più connessi in quanto mantengono più personaggi principali in comune, invece negli ultimi 2 possiamo renderci conto che pochi dei personaggi principali rimangono per entrambi i libri.\n",
    "\n",
    "Questa analisi trova una conferma nella realtà in quanto i libri 4 e 5 parlano di vicende lontane, quindi con pochi personaggi principali in comune."
   ]
  }
 ],
 "metadata": {
  "colab": {
   "collapsed_sections": [],
   "name": "MultilayerVisualizationPy3plex.ipynb",
   "provenance": [],
   "toc_visible": true
  },
  "kernelspec": {
   "display_name": "Python 3",
   "language": "python",
   "name": "python3"
  },
  "language_info": {
   "codemirror_mode": {
    "name": "ipython",
    "version": 3
   },
   "file_extension": ".py",
   "mimetype": "text/x-python",
   "name": "python",
   "nbconvert_exporter": "python",
   "pygments_lexer": "ipython3",
   "version": "3.8.5"
  }
 },
 "nbformat": 4,
 "nbformat_minor": 1
}
